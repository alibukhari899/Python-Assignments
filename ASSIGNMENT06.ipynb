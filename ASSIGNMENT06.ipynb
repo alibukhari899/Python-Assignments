{
 "cells": [
  {
   "cell_type": "code",
   "execution_count": null,
   "metadata": {},
   "outputs": [],
   "source": [
    "#QUESTION NO 1: Define Object Oriented Programming Language ?\n",
    "\n",
    "Ans: Object Oriented Programming Language is any programming language that mimics real world objects,\n",
    "     their behaviors and properties in Programming logic as Objects and Classes."
   ]
  },
  {
   "cell_type": "code",
   "execution_count": null,
   "metadata": {},
   "outputs": [],
   "source": [
    "#QUESTION NO 2: List down the Benefits of OOP ?\n",
    "\n",
    "Ans: 1.Code reusability through Abstraction and Inheritance.\n",
    "     2.Productivity increases through Polymorphism.\n",
    "     3.Code is Secure through Encapsulation."
   ]
  },
  {
   "cell_type": "code",
   "execution_count": null,
   "metadata": {},
   "outputs": [],
   "source": [
    "#QUESTION NO 3: Differentiate between function and method ?\n",
    "\n",
    "Ans: Function and Method are all same except, method is a function defined inside a class."
   ]
  },
  {
   "cell_type": "code",
   "execution_count": null,
   "metadata": {},
   "outputs": [],
   "source": [
    "Define the following Terms :\n",
    "1. Class.\n",
    "2. Object.\n",
    "3. Attribute.\n",
    "4. Behavior.\n",
    "\n",
    "Ans:\n",
    "\n",
    "1.CLASS: Class is the blueprint of the Object. All the properties and behaviours of Object are defined inside a class as attributes and methods.\n",
    "\n",
    "2.OBJECT: Object is the real world model of class or running form of class. Object contains all the properties and behaviors defined inside class.\n",
    "          Object is used to access the data of class.\n",
    "\n",
    "3.ATTRIBUTE: Attributes are the variables that are defined inside a class.\n",
    "\n",
    "4.BEHAVIORS: Behaviors are the methods corresponding to the behavior of real world objects."
   ]
  },
  {
   "cell_type": "code",
   "execution_count": 1,
   "metadata": {},
   "outputs": [
    {
     "name": "stdout",
     "output_type": "stream",
     "text": [
      "Car Properties\n",
      "Name         : Civic\n",
      "Model        : 2019\n",
      "Color        : Black\n",
      "Company      : Honda\n",
      "Transmission : Auto \n",
      "\n",
      "Car Properties\n",
      "Name         : Coure\n",
      "Model        : 2009\n",
      "Color        : Brown\n",
      "Company      : Diahatsu\n",
      "Transmission : Manual \n",
      "\n",
      "Car Properties\n",
      "Name         : Corolla\n",
      "Model        : 2016\n",
      "Color        : Black\n",
      "Company      : Toyota\n",
      "Transmission : Auto \n",
      "\n",
      "Car Properties\n",
      "Name         : Mehran\n",
      "Model        : 2017\n",
      "Color        : Grey\n",
      "Company      : Suzuki\n",
      "Transmission : Manual \n",
      "\n",
      "Car Properties\n",
      "Name         : City\n",
      "Model        : 2018\n",
      "Color        : White\n",
      "Company      : Honda\n",
      "Transmission : Auto \n",
      "\n",
      "Before Changing :  Civic\n",
      "After Changing :  Pajero\n"
     ]
    }
   ],
   "source": [
    "#QUESTION NO 5:\n",
    "\n",
    "class Car():\n",
    "    # Init method\n",
    "    def __init__(self, name, model, color, company, transmission):\n",
    "        self.name = name\n",
    "        self.model = model\n",
    "        self.color = color\n",
    "        self.company = company\n",
    "        self.transmission = transmission\n",
    "        \n",
    "    # show_properties method\n",
    "    def show_properties(self):\n",
    "        print(\"Car Properties\")\n",
    "        print(f\"Name         : {self.name}\")\n",
    "        print(f\"Model        : {self.model}\")\n",
    "        print(f\"Color        : {self.color}\")\n",
    "        print(f\"Company      : {self.company}\")\n",
    "        print(f\"Transmission : {self.transmission} \\n\")\n",
    "        \n",
    "    \n",
    "    # update_name method\n",
    "    def update_name(self, newname):\n",
    "        self.name = newname\n",
    "    \n",
    "    # update_color method\n",
    "    def update_color(self, newcolor):\n",
    "        self.color = newcolor\n",
    "\n",
    "\n",
    "        \n",
    "# Objects\n",
    "\n",
    "car1 = Car(\"Civic\", 2019, \"Black\", \"Honda\", \"Auto\")\n",
    "car2 = Car(\"Coure\", 2009, \"Brown\", \"Diahatsu\", \"Manual\")\n",
    "car3 = Car(\"Corolla\", 2016, \"Black\", \"Toyota\", \"Auto\")\n",
    "car4 = Car(\"Mehran\", 2017, \"Grey\", \"Suzuki\", \"Manual\")\n",
    "car5 = Car(\"City\", 2018, \"White\", \"Honda\", \"Auto\")\n",
    "\n",
    "# Calling methods\n",
    "car1.show_properties()\n",
    "car2.show_properties()\n",
    "car3.show_properties()\n",
    "car4.show_properties()\n",
    "car5.show_properties()\n",
    "        \n",
    "    \n",
    "# Changing name\n",
    " # before Changing\n",
    "print(\"Before Changing : \",car1.name)\n",
    "car1.update_name(\"Pajero\")\n",
    "print(\"After Changing : \",car1.name)"
   ]
  }
 ],
 "metadata": {
  "kernelspec": {
   "display_name": "Python 3",
   "language": "python",
   "name": "python3"
  },
  "language_info": {
   "codemirror_mode": {
    "name": "ipython",
    "version": 3
   },
   "file_extension": ".py",
   "mimetype": "text/x-python",
   "name": "python",
   "nbconvert_exporter": "python",
   "pygments_lexer": "ipython3",
   "version": "3.7.4"
  }
 },
 "nbformat": 4,
 "nbformat_minor": 2
}
